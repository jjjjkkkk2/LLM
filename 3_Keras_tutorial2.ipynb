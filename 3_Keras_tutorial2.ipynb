{
  "nbformat": 4,
  "nbformat_minor": 0,
  "metadata": {
    "colab": {
      "provenance": [],
      "include_colab_link": true
    },
    "kernelspec": {
      "name": "python3",
      "display_name": "Python 3"
    },
    "language_info": {
      "name": "python"
    }
  },
  "cells": [
    {
      "cell_type": "markdown",
      "metadata": {
        "id": "view-in-github",
        "colab_type": "text"
      },
      "source": [
        "<a href=\"https://colab.research.google.com/github/jjjjkkkk2/LLM/blob/main/3_Keras_tutorial2.ipynb\" target=\"_parent\"><img src=\"https://colab.research.google.com/assets/colab-badge.svg\" alt=\"Open In Colab\"/></a>"
      ]
    },
    {
      "cell_type": "code",
      "execution_count": null,
      "metadata": {
        "colab": {
          "base_uri": "https://localhost:8080/"
        },
        "id": "1IGiWBT7f1qd",
        "outputId": "aee3448f-3044-4420-d827-66f6a35b25ee"
      },
      "outputs": [
        {
          "output_type": "stream",
          "name": "stdout",
          "text": [
            "Epoch 1/10\n",
            "32/32 [==============================] - 1s 6ms/step - loss: 692.3563 - accuracy: 0.0960\n",
            "Epoch 2/10\n",
            "32/32 [==============================] - 0s 6ms/step - loss: 2474.1013 - accuracy: 0.0970\n",
            "Epoch 3/10\n",
            "32/32 [==============================] - 0s 6ms/step - loss: 4541.2969 - accuracy: 0.0980\n",
            "Epoch 4/10\n",
            "32/32 [==============================] - 0s 6ms/step - loss: 6494.2593 - accuracy: 0.0970\n",
            "Epoch 5/10\n",
            "32/32 [==============================] - 0s 6ms/step - loss: 8728.3330 - accuracy: 0.0970\n",
            "Epoch 6/10\n",
            "32/32 [==============================] - 0s 6ms/step - loss: 11054.8096 - accuracy: 0.0970\n",
            "Epoch 7/10\n",
            "32/32 [==============================] - 0s 7ms/step - loss: 12942.4678 - accuracy: 0.0980\n",
            "Epoch 8/10\n",
            "32/32 [==============================] - 0s 6ms/step - loss: 14771.3682 - accuracy: 0.0990\n",
            "Epoch 9/10\n",
            "32/32 [==============================] - 0s 6ms/step - loss: 16742.0098 - accuracy: 0.0970\n",
            "Epoch 10/10\n",
            "32/32 [==============================] - 0s 6ms/step - loss: 18890.1309 - accuracy: 0.0970\n",
            "32/32 [==============================] - 0s 3ms/step - loss: 19942.8555 - accuracy: 0.0970\n",
            "0.09700000286102295\n"
          ]
        }
      ],
      "source": [
        "from tensorflow import keras  #此行從 TensorFlow 匯入 `keras` 模組\n",
        "from keras.models import Sequential  #這一行從 Keras 模組導入 `Sequential`\n",
        "from keras.layers import Dense, Dropout  #從 Keras 庫導入“Dense”和“Dropout”層\n",
        "\n",
        "model = Sequential()  #該行初始化一個順序模型\n",
        "model.add(Dense(512, activation='relu', input_dim=784))  #為 Keras 順序模型新增一個完全連接的密集層\n",
        "model.add(Dropout(0.2))\n",
        "model.add(Dense(10, activation='softmax'))\n",
        "model.compile(optimizer='adam', loss='categorical_crossentropy', metrics=['accuracy'])\n",
        "\n",
        "import numpy as np  #導入 NumPy\n",
        "data = np.random.random((1000, 784))\n",
        "labels = np.random.randint(10, size=(1000, 10))\n",
        "\n",
        "model.fit(data, labels, epochs=10, batch_size=32)\n",
        "\n",
        "score=model.evaluate(data, labels)\n",
        "print(score[1])  # #這一行列印"
      ]
    },
    {
      "cell_type": "code",
      "source": [],
      "metadata": {
        "id": "yTxfc2-Tf61y"
      },
      "execution_count": null,
      "outputs": []
    }
  ]
}